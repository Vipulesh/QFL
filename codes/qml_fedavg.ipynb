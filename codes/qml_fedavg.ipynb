{
 "cells": [
  {
   "cell_type": "code",
   "execution_count": 26,
   "id": "93c50152",
   "metadata": {},
   "outputs": [],
   "source": [
    "import tensorcircuit as tc\n",
    "import optax\n",
    "import jax.numpy as jnp\n",
    "import jax\n",
    "import tensorflow as tf\n",
    "import matplotlib.pyplot as plt\n",
    "from tqdm.notebook import tqdm\n",
    "\n",
    "import os\n",
    "from sklearn.mixture import GaussianMixture\n",
    "key = jax.random.PRNGKey(42)\n",
    "tf.random.set_seed(42)"
   ]
  },
  {
   "cell_type": "code",
   "execution_count": 2,
   "id": "c36936a1",
   "metadata": {},
   "outputs": [],
   "source": [
    "readout_mode = 'softmax'\n",
    "# readout_mode = 'sample'\n",
    "encoding_mode = 'vanilla'\n",
    "# encoding_mode = 'mean'\n",
    "# encoding_mode = 'half'\n",
    "n = 8\n",
    "n_node = 8\n",
    "K = tc.set_backend('jax')"
   ]
  },
  {
   "cell_type": "code",
   "execution_count": 3,
   "id": "0e6be66d",
   "metadata": {},
   "outputs": [],
   "source": [
    "import pandas as pd\n",
    "import cv2\n",
    "import numpy as np\n",
    "from PIL import Image\n",
    "from sklearn.model_selection import train_test_split\n",
    "import itertools"
   ]
  },
  {
   "cell_type": "code",
   "execution_count": 4,
   "id": "c70ebc2d",
   "metadata": {},
   "outputs": [],
   "source": [
    "df=pd.read_csv('files_cat.csv')\n",
    "l=len(df['fname'])\n",
    "for i in range(l):\n",
    "    j=\"minor_proj_data/\"+df['fname'][i]\n",
    "    df.loc[i, 'fname'] = j"
   ]
  },
  {
   "cell_type": "code",
   "execution_count": 5,
   "id": "2968d2f1",
   "metadata": {},
   "outputs": [
    {
     "data": {
      "text/html": [
       "<div>\n",
       "<style scoped>\n",
       "    .dataframe tbody tr th:only-of-type {\n",
       "        vertical-align: middle;\n",
       "    }\n",
       "\n",
       "    .dataframe tbody tr th {\n",
       "        vertical-align: top;\n",
       "    }\n",
       "\n",
       "    .dataframe thead th {\n",
       "        text-align: right;\n",
       "    }\n",
       "</style>\n",
       "<table border=\"1\" class=\"dataframe\">\n",
       "  <thead>\n",
       "    <tr style=\"text-align: right;\">\n",
       "      <th></th>\n",
       "      <th>fname</th>\n",
       "      <th>class</th>\n",
       "    </tr>\n",
       "  </thead>\n",
       "  <tbody>\n",
       "    <tr>\n",
       "      <th>0</th>\n",
       "      <td>minor_proj_data/1.png</td>\n",
       "      <td>1</td>\n",
       "    </tr>\n",
       "    <tr>\n",
       "      <th>1</th>\n",
       "      <td>minor_proj_data/2.png</td>\n",
       "      <td>1</td>\n",
       "    </tr>\n",
       "    <tr>\n",
       "      <th>2</th>\n",
       "      <td>minor_proj_data/3.png</td>\n",
       "      <td>1</td>\n",
       "    </tr>\n",
       "    <tr>\n",
       "      <th>3</th>\n",
       "      <td>minor_proj_data/4.png</td>\n",
       "      <td>1</td>\n",
       "    </tr>\n",
       "    <tr>\n",
       "      <th>4</th>\n",
       "      <td>minor_proj_data/5.png</td>\n",
       "      <td>1</td>\n",
       "    </tr>\n",
       "  </tbody>\n",
       "</table>\n",
       "</div>"
      ],
      "text/plain": [
       "                   fname  class\n",
       "0  minor_proj_data/1.png      1\n",
       "1  minor_proj_data/2.png      1\n",
       "2  minor_proj_data/3.png      1\n",
       "3  minor_proj_data/4.png      1\n",
       "4  minor_proj_data/5.png      1"
      ]
     },
     "execution_count": 5,
     "metadata": {},
     "output_type": "execute_result"
    }
   ],
   "source": [
    "df.head()"
   ]
  },
  {
   "cell_type": "code",
   "execution_count": 6,
   "id": "f8331a55",
   "metadata": {},
   "outputs": [],
   "source": [
    "img_col=[]\n",
    "for i in df['fname']:\n",
    "    img = Image.open(i)\n",
    "    # Resize the image to 28x28 pixels\n",
    "    img = img.resize((28, 28))\n",
    "    # Convert the image to grayscale\n",
    "    img = img.convert('L')\n",
    "    # Convert the image data to a NumPy array and normalize to range [0, 1]\n",
    "    img = np.array(img,dtype='uint8')\n",
    "    img_col.append(img)"
   ]
  },
  {
   "cell_type": "code",
   "execution_count": 7,
   "id": "2f779c3d",
   "metadata": {},
   "outputs": [],
   "source": [
    "df['img']=img_col\n",
    "df=df.drop('fname',axis=1)\n",
    "X=df.loc[:,df.columns!='class'].values\n",
    "Y=df.loc[:,df.columns=='class'].values"
   ]
  },
  {
   "cell_type": "code",
   "execution_count": 37,
   "id": "754df0eb",
   "metadata": {},
   "outputs": [],
   "source": [
    "x_train,x_test,y_train,y_test=train_test_split(X,Y,test_size=0.2,random_state=42)"
   ]
  },
  {
   "cell_type": "code",
   "execution_count": 38,
   "id": "ed04657c",
   "metadata": {},
   "outputs": [],
   "source": [
    "xtrain=[]\n",
    "for i in x_train:\n",
    "    for j in i:\n",
    "        xtrain.append(j)\n",
    "x_train=np.array(xtrain)"
   ]
  },
  {
   "cell_type": "code",
   "execution_count": 39,
   "id": "5e438a50",
   "metadata": {},
   "outputs": [],
   "source": [
    "ytrain=[]\n",
    "for i in y_train:\n",
    "    for j in i:\n",
    "        ytrain.append(j)\n",
    "y_train=np.array(ytrain)"
   ]
  },
  {
   "cell_type": "code",
   "execution_count": 40,
   "id": "f3087946",
   "metadata": {},
   "outputs": [],
   "source": [
    "xtest=[]\n",
    "for i in x_test:\n",
    "    for j in i:\n",
    "        xtest.append(j)\n",
    "x_test=np.array(xtest)"
   ]
  },
  {
   "cell_type": "code",
   "execution_count": 41,
   "id": "a57c82ea",
   "metadata": {},
   "outputs": [],
   "source": [
    "ytest=[]\n",
    "for i in y_test:\n",
    "    for j in i:\n",
    "        ytest.append(j)\n",
    "y_test=np.array(ytest)"
   ]
  },
  {
   "cell_type": "code",
   "execution_count": 42,
   "id": "b6201dac",
   "metadata": {},
   "outputs": [],
   "source": [
    "x_train = x_train / 255.0\n",
    "if encoding_mode == 'vanilla':\n",
    "    mean = 0\n",
    "elif encoding_mode == 'mean':\n",
    "    mean = jnp.mean(x_train, axis=0)\n",
    "elif encoding_mode == 'half':\n",
    "    mean = 0.5\n",
    "\n",
    "x_train = x_train - mean\n",
    "x_train = tf.image.resize(x_train[..., tf.newaxis], (int(2**(n/2)), int(2**(n/2)))).numpy()[..., 0].reshape(-1, 2**n)\n",
    "x_train = x_train / jnp.sqrt(jnp.sum(x_train**2, axis=-1, keepdims=True))\n",
    "\n",
    "x_test = x_test / 255.0\n",
    "x_test = x_test - mean\n",
    "x_test = tf.image.resize(x_test[..., tf.newaxis], (int(2**(n/2)), int(2**(n/2)))).numpy()[..., 0].reshape(-1, 2**n)\n",
    "x_test = x_test / jnp.sqrt(jnp.sum(x_test**2, axis=-1, keepdims=True))\n",
    "\n",
    "#y_train = jax.nn.one_hot(y_train, n_node)\n",
    "y_test = jax.nn.one_hot(y_test, n_node)\n",
    "\n",
    "def filter_pair(x, y, a, b):\n",
    "    keep = (y == a) | (y == b)\n",
    "    x, y = x[keep], y[keep]\n",
    "    y = jax.nn.one_hot(y, n_node)\n",
    "    return x, y"
   ]
  },
  {
   "cell_type": "code",
   "execution_count": 43,
   "id": "04375770",
   "metadata": {},
   "outputs": [],
   "source": [
    "def clf(params, c, k):\n",
    "    for j in range(k):\n",
    "        for i in range(n - 1):\n",
    "            c.cnot(i, i + 1)\n",
    "        for i in range(n):\n",
    "            c.rx(i, theta=params[3 * j, i])\n",
    "            c.rz(i, theta=params[3 * j + 1, i])\n",
    "            c.rx(i, theta=params[3 * j + 2, i])\n",
    "    return c\n",
    "\n",
    "def readout(c):\n",
    "    if readout_mode == 'softmax':\n",
    "        logits = []\n",
    "        for i in range(n_node):\n",
    "            logits.append(jnp.real(c.expectation([tc.gates.z(), [i,]])))\n",
    "        logits = jnp.stack(logits, axis=-1) * 10\n",
    "        probs = jax.nn.softmax(logits)\n",
    "    elif readout_mode == 'sample':\n",
    "        wf = jnp.abs(c.wavefunction()[:n_node])**2\n",
    "        probs = wf / jnp.sum(wf)\n",
    "    return probs"
   ]
  },
  {
   "cell_type": "code",
   "execution_count": 44,
   "id": "8b9a7648",
   "metadata": {},
   "outputs": [],
   "source": [
    "def loss(params, x, y, k):\n",
    "    c = tc.Circuit(n, inputs=x)\n",
    "    c = clf(params, c, k)\n",
    "    probs = readout(c)\n",
    "    return -jnp.mean(jnp.sum(y * jnp.log(probs + 1e-7), axis=-1))\n",
    "loss = K.jit(loss, static_argnums=[3])"
   ]
  },
  {
   "cell_type": "code",
   "execution_count": 45,
   "id": "ca52e67c",
   "metadata": {},
   "outputs": [],
   "source": [
    "def accuracy(params, x, y, k):\n",
    "    c = tc.Circuit(n, inputs=x)\n",
    "    c = clf(params, c, k)\n",
    "    probs = readout(c)\n",
    "    return jnp.argmax(probs, axis=-1) == jnp.argmax(y, axis=-1)\n",
    "accuracy = K.jit(accuracy, static_argnums=[3])"
   ]
  },
  {
   "cell_type": "code",
   "execution_count": 46,
   "id": "374471ed",
   "metadata": {},
   "outputs": [],
   "source": [
    "k = 6\n",
    "compute_loss = K.jit(K.vectorized_value_and_grad(loss, vectorized_argnums=[1, 2]), static_argnums=[3])\n",
    "compute_accuracy = K.jit(K.vmap(accuracy, vectorized_argnums=[1, 2]), static_argnums=[3])"
   ]
  },
  {
   "cell_type": "code",
   "execution_count": 47,
   "id": "a458cb8c",
   "metadata": {},
   "outputs": [
    {
     "data": {
      "application/vnd.jupyter.widget-view+json": {
       "model_id": "375a33a296be4bfa90aa4eea518d3bd1",
       "version_major": 2,
       "version_minor": 0
      },
      "text/plain": [
       "  0%|          | 0/3 [00:00<?, ?it/s]"
      ]
     },
     "metadata": {},
     "output_type": "display_data"
    },
    {
     "data": {
      "application/vnd.jupyter.widget-view+json": {
       "model_id": "",
       "version_major": 2,
       "version_minor": 0
      },
      "text/plain": [
       "  0%|          | 0/5 [00:00<?, ?it/s]"
      ]
     },
     "metadata": {},
     "output_type": "display_data"
    },
    {
     "name": "stdout",
     "output_type": "stream",
     "text": [
      "epoch 0, 0/5: loss=2.5762, acc=0.0156\n",
      "epoch 1, 0/5: loss=1.2220, acc=0.9062\n",
      "epoch 2, 0/5: loss=0.5095, acc=1.0000\n",
      "epoch 3, 0/5: loss=0.2555, acc=1.0000\n",
      "epoch 4, 0/5: loss=0.1574, acc=1.0000\n"
     ]
    },
    {
     "data": {
      "image/png": "[encoded data removed]",
      "text/plain": [
       "<Figure size 432x288 with 1 Axes>"
      ]
     },
     "metadata": {
      "needs_background": "light"
     },
     "output_type": "display_data"
    },
    {
     "data": {
      "application/vnd.jupyter.widget-view+json": {
       "model_id": "",
       "version_major": 2,
       "version_minor": 0
      },
      "text/plain": [
       "  0%|          | 0/5 [00:00<?, ?it/s]"
      ]
     },
     "metadata": {},
     "output_type": "display_data"
    },
    {
     "name": "stdout",
     "output_type": "stream",
     "text": [
      "epoch 0, 0/10: loss=1.8338, acc=0.5391\n",
      "epoch 1, 0/10: loss=0.1479, acc=1.0000\n",
      "epoch 2, 0/10: loss=0.0447, acc=1.0000\n",
      "epoch 3, 0/10: loss=0.0250, acc=1.0000\n",
      "epoch 4, 0/10: loss=0.0170, acc=1.0000\n"
     ]
    },
    {
     "data": {
      "image/png": "[encoded data removed]",
      "text/plain": [
       "<Figure size 432x288 with 1 Axes>"
      ]
     },
     "metadata": {
      "needs_background": "light"
     },
     "output_type": "display_data"
    },
    {
     "data": {
      "application/vnd.jupyter.widget-view+json": {
       "model_id": "",
       "version_major": 2,
       "version_minor": 0
      },
      "text/plain": [
       "  0%|          | 0/5 [00:00<?, ?it/s]"
      ]
     },
     "metadata": {},
     "output_type": "display_data"
    },
    {
     "name": "stdout",
     "output_type": "stream",
     "text": [
      "epoch 0, 0/6: loss=1.2607, acc=0.9844\n",
      "epoch 1, 0/6: loss=0.2728, acc=1.0000\n",
      "epoch 2, 0/6: loss=0.0927, acc=1.0000\n",
      "epoch 3, 0/6: loss=0.0450, acc=1.0000\n",
      "epoch 4, 0/6: loss=0.0279, acc=1.0000\n"
     ]
    },
    {
     "data": {
      "image/png": "[encoded data removed]",
      "text/plain": [
       "<Figure size 432x288 with 1 Axes>"
      ]
     },
     "metadata": {
      "needs_background": "light"
     },
     "output_type": "display_data"
    }
   ],
   "source": [
    "params_list = []\n",
    "gmm_list = []\n",
    "all_train_loss = []\n",
    "all_train_acc = []\n",
    "for node in tqdm(range(3)):\n",
    "    x_train_node, y_train_node = filter_pair(x_train, y_train, 0, node + 1)\n",
    "    data = tf.data.Dataset.from_tensor_slices((x_train_node, y_train_node)).batch(128)\n",
    "\n",
    "    # GMM\n",
    "    gmm = GaussianMixture(n_components=5, max_iter=100, random_state=42)\n",
    "    gmm.fit(x_train_node)\n",
    "    gmm_list.append(gmm)\n",
    "\n",
    "    key, subkey = jax.random.split(key)\n",
    "    params = jax.random.normal(subkey, (3 * k, n))\n",
    "    opt = optax.adam(learning_rate=1e-2)\n",
    "    opt_state = opt.init(params)\n",
    "\n",
    "    loss_list = []\n",
    "    acc_list = []\n",
    "    for e in tqdm(range(5), leave=False):\n",
    "        for i, (x, y) in enumerate(data):\n",
    "            x = x.numpy()\n",
    "            y = y.numpy()\n",
    "            loss_val, grad_val = compute_loss(params, x, y, k)\n",
    "            updates, opt_state = opt.update(grad_val, opt_state, params)\n",
    "            params = optax.apply_updates(params, updates)\n",
    "            loss_mean = jnp.mean(loss_val)\n",
    "            if i % 20 == 0:\n",
    "                acc = jnp.mean(compute_accuracy(params, x, y, k))\n",
    "                acc_list.append(acc)\n",
    "                loss_list.append(loss_mean)\n",
    "                print(f'epoch {e}, {i}/{len(data)}: loss={loss_mean:.4f}, acc={acc:.4f}')\n",
    "    all_train_loss.append(loss_list)\n",
    "    all_train_acc.append(acc_list)\n",
    "    \n",
    "\n",
    "    plt.plot(loss_list)\n",
    "    plt.plot(acc_list)\n",
    "    plt.legend(['loss', 'accuracy'])\n",
    "    plt.ylim(0, 1)\n",
    "    plt.show()\n",
    "\n",
    "    params_list.append(params)"
   ]
  },
  {
   "cell_type": "code",
   "execution_count": null,
   "id": "b1a36255",
   "metadata": {},
   "outputs": [],
   "source": []
  },
  {
   "cell_type": "code",
   "execution_count": null,
   "id": "7f90c103",
   "metadata": {},
   "outputs": [],
   "source": []
  }
 ],
 "metadata": {
  "kernelspec": {
   "display_name": "Python 3 (ipykernel)",
   "language": "python",
   "name": "python3"
  },
  "language_info": {
   "codemirror_mode": {
    "name": "ipython",
    "version": 3
   },
   "file_extension": ".py",
   "mimetype": "text/x-python",
   "name": "python",
   "nbconvert_exporter": "python",
   "pygments_lexer": "ipython3",
   "version": "3.10.1"
  }
 },
 "nbformat": 4,
 "nbformat_minor": 5
}
